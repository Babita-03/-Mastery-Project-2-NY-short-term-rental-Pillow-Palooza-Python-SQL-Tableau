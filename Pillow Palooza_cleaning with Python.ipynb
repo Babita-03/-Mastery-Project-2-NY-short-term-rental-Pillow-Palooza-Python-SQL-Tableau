{
 "cells": [
  {
   "cell_type": "code",
   "execution_count": 1,
   "id": "3492b28e",
   "metadata": {},
   "outputs": [],
   "source": [
    "# importing pandas and numpy\n",
    "import pandas as pd\n",
    "import numpy as np"
   ]
  },
  {
   "cell_type": "code",
   "execution_count": 2,
   "id": "1fc84cf4",
   "metadata": {},
   "outputs": [],
   "source": [
    "# importing reviews file from downloads\n",
    "reviews= pd.read_csv('c:/users/babit/downloads/reviews_pillow palooza.tsv',delimiter='\\t', index_col=0)"
   ]
  },
  {
   "cell_type": "code",
   "execution_count": 3,
   "id": "3e587a15",
   "metadata": {},
   "outputs": [
    {
     "data": {
      "text/html": [
       "<div>\n",
       "<style scoped>\n",
       "    .dataframe tbody tr th:only-of-type {\n",
       "        vertical-align: middle;\n",
       "    }\n",
       "\n",
       "    .dataframe tbody tr th {\n",
       "        vertical-align: top;\n",
       "    }\n",
       "\n",
       "    .dataframe thead th {\n",
       "        text-align: right;\n",
       "    }\n",
       "</style>\n",
       "<table border=\"1\" class=\"dataframe\">\n",
       "  <thead>\n",
       "    <tr style=\"text-align: right;\">\n",
       "      <th></th>\n",
       "      <th>host_name</th>\n",
       "      <th>last_review</th>\n",
       "    </tr>\n",
       "    <tr>\n",
       "      <th>listing_id</th>\n",
       "      <th></th>\n",
       "      <th></th>\n",
       "    </tr>\n",
       "  </thead>\n",
       "  <tbody>\n",
       "    <tr>\n",
       "      <th>2595</th>\n",
       "      <td>Jennifer</td>\n",
       "      <td>May 21 2019</td>\n",
       "    </tr>\n",
       "    <tr>\n",
       "      <th>3831</th>\n",
       "      <td>LisaRoxanne</td>\n",
       "      <td>July 05 2019</td>\n",
       "    </tr>\n",
       "    <tr>\n",
       "      <th>5099</th>\n",
       "      <td>Chris</td>\n",
       "      <td>June 22 2019</td>\n",
       "    </tr>\n",
       "    <tr>\n",
       "      <th>5178</th>\n",
       "      <td>Shunichi</td>\n",
       "      <td>June 24 2019</td>\n",
       "    </tr>\n",
       "    <tr>\n",
       "      <th>5238</th>\n",
       "      <td>Ben</td>\n",
       "      <td>June 09 2019</td>\n",
       "    </tr>\n",
       "  </tbody>\n",
       "</table>\n",
       "</div>"
      ],
      "text/plain": [
       "              host_name   last_review\n",
       "listing_id                           \n",
       "2595           Jennifer   May 21 2019\n",
       "3831        LisaRoxanne  July 05 2019\n",
       "5099              Chris  June 22 2019\n",
       "5178           Shunichi  June 24 2019\n",
       "5238                Ben  June 09 2019"
      ]
     },
     "execution_count": 3,
     "metadata": {},
     "output_type": "execute_result"
    }
   ],
   "source": [
    "# Checking first 5 rows of reviews file\n",
    "reviews.head()"
   ]
  },
  {
   "cell_type": "code",
   "execution_count": 4,
   "id": "673b9570",
   "metadata": {},
   "outputs": [],
   "source": [
    "#importing prices file from downloads\n",
    "\n",
    "prices= pd.read_csv('c:/users/babit/downloads/prices_pillow palooza.csv',index_col=0)"
   ]
  },
  {
   "cell_type": "code",
   "execution_count": 5,
   "id": "1da19fbc",
   "metadata": {},
   "outputs": [
    {
     "data": {
      "text/html": [
       "<div>\n",
       "<style scoped>\n",
       "    .dataframe tbody tr th:only-of-type {\n",
       "        vertical-align: middle;\n",
       "    }\n",
       "\n",
       "    .dataframe tbody tr th {\n",
       "        vertical-align: top;\n",
       "    }\n",
       "\n",
       "    .dataframe thead th {\n",
       "        text-align: right;\n",
       "    }\n",
       "</style>\n",
       "<table border=\"1\" class=\"dataframe\">\n",
       "  <thead>\n",
       "    <tr style=\"text-align: right;\">\n",
       "      <th></th>\n",
       "      <th>price</th>\n",
       "      <th>nbhood_full</th>\n",
       "    </tr>\n",
       "    <tr>\n",
       "      <th>listing_id</th>\n",
       "      <th></th>\n",
       "      <th></th>\n",
       "    </tr>\n",
       "  </thead>\n",
       "  <tbody>\n",
       "    <tr>\n",
       "      <th>2595</th>\n",
       "      <td>225 dollars</td>\n",
       "      <td>Manhattan, Midtown</td>\n",
       "    </tr>\n",
       "    <tr>\n",
       "      <th>3831</th>\n",
       "      <td>89 dollars</td>\n",
       "      <td>Brooklyn, Clinton Hill</td>\n",
       "    </tr>\n",
       "    <tr>\n",
       "      <th>5099</th>\n",
       "      <td>200 dollars</td>\n",
       "      <td>Manhattan, Murray Hill</td>\n",
       "    </tr>\n",
       "    <tr>\n",
       "      <th>5178</th>\n",
       "      <td>79 dollars</td>\n",
       "      <td>Manhattan, Hell's Kitchen</td>\n",
       "    </tr>\n",
       "    <tr>\n",
       "      <th>5238</th>\n",
       "      <td>150 dollars</td>\n",
       "      <td>Manhattan, Chinatown</td>\n",
       "    </tr>\n",
       "  </tbody>\n",
       "</table>\n",
       "</div>"
      ],
      "text/plain": [
       "                  price                nbhood_full\n",
       "listing_id                                        \n",
       "2595        225 dollars         Manhattan, Midtown\n",
       "3831         89 dollars     Brooklyn, Clinton Hill\n",
       "5099        200 dollars     Manhattan, Murray Hill\n",
       "5178         79 dollars  Manhattan, Hell's Kitchen\n",
       "5238        150 dollars       Manhattan, Chinatown"
      ]
     },
     "execution_count": 5,
     "metadata": {},
     "output_type": "execute_result"
    }
   ],
   "source": [
    "# Checking first 5 rows of prices file\n",
    "prices.head()"
   ]
  },
  {
   "cell_type": "code",
   "execution_count": 6,
   "id": "931e7306",
   "metadata": {},
   "outputs": [],
   "source": [
    "#importing room_types file from downloads\n",
    "room_types= pd.read_excel('c:/users/babit/downloads/room_types_pillow palooza.xlsx',index_col=0)\n",
    "\n"
   ]
  },
  {
   "cell_type": "code",
   "execution_count": 7,
   "id": "d1c0adbe",
   "metadata": {},
   "outputs": [
    {
     "data": {
      "text/html": [
       "<div>\n",
       "<style scoped>\n",
       "    .dataframe tbody tr th:only-of-type {\n",
       "        vertical-align: middle;\n",
       "    }\n",
       "\n",
       "    .dataframe tbody tr th {\n",
       "        vertical-align: top;\n",
       "    }\n",
       "\n",
       "    .dataframe thead th {\n",
       "        text-align: right;\n",
       "    }\n",
       "</style>\n",
       "<table border=\"1\" class=\"dataframe\">\n",
       "  <thead>\n",
       "    <tr style=\"text-align: right;\">\n",
       "      <th></th>\n",
       "      <th>description</th>\n",
       "      <th>room_type</th>\n",
       "    </tr>\n",
       "    <tr>\n",
       "      <th>listing_id</th>\n",
       "      <th></th>\n",
       "      <th></th>\n",
       "    </tr>\n",
       "  </thead>\n",
       "  <tbody>\n",
       "    <tr>\n",
       "      <th>2595</th>\n",
       "      <td>Skylit Midtown Castle</td>\n",
       "      <td>Entire home/apt</td>\n",
       "    </tr>\n",
       "    <tr>\n",
       "      <th>3831</th>\n",
       "      <td>Cozy Entire Floor of Brownstone</td>\n",
       "      <td>Entire home/apt</td>\n",
       "    </tr>\n",
       "    <tr>\n",
       "      <th>5099</th>\n",
       "      <td>Large Cozy 1 BR Apartment In Midtown East</td>\n",
       "      <td>Entire home/apt</td>\n",
       "    </tr>\n",
       "    <tr>\n",
       "      <th>5178</th>\n",
       "      <td>Large Furnished Room Near B'way</td>\n",
       "      <td>private room</td>\n",
       "    </tr>\n",
       "    <tr>\n",
       "      <th>5238</th>\n",
       "      <td>Cute &amp; Cozy Lower East Side 1 bdrm</td>\n",
       "      <td>Entire home/apt</td>\n",
       "    </tr>\n",
       "  </tbody>\n",
       "</table>\n",
       "</div>"
      ],
      "text/plain": [
       "                                          description        room_type\n",
       "listing_id                                                            \n",
       "2595                            Skylit Midtown Castle  Entire home/apt\n",
       "3831                  Cozy Entire Floor of Brownstone  Entire home/apt\n",
       "5099        Large Cozy 1 BR Apartment In Midtown East  Entire home/apt\n",
       "5178                  Large Furnished Room Near B'way     private room\n",
       "5238               Cute & Cozy Lower East Side 1 bdrm  Entire home/apt"
      ]
     },
     "execution_count": 7,
     "metadata": {},
     "output_type": "execute_result"
    }
   ],
   "source": [
    "#checking first five rows of room_types\n",
    "room_types.head()"
   ]
  },
  {
   "cell_type": "code",
   "execution_count": 8,
   "id": "de5bdd27",
   "metadata": {},
   "outputs": [
    {
     "name": "stdout",
     "output_type": "stream",
     "text": [
      "<class 'pandas.core.frame.DataFrame'>\n",
      "Int64Index: 25209 entries, 2595 to 36455809\n",
      "Data columns (total 2 columns):\n",
      " #   Column       Non-Null Count  Dtype \n",
      "---  ------       --------------  ----- \n",
      " 0   price        25209 non-null  object\n",
      " 1   nbhood_full  25209 non-null  object\n",
      "dtypes: object(2)\n",
      "memory usage: 590.8+ KB\n"
     ]
    }
   ],
   "source": [
    "prices.info()"
   ]
  },
  {
   "cell_type": "code",
   "execution_count": 9,
   "id": "8ce9dc4c",
   "metadata": {},
   "outputs": [],
   "source": [
    "#remove dollars from price column\n",
    "prices[\"price\"] = prices[\"price\"].astype(str)\n",
    "prices[\"price\"] = prices[\"price\"].str.replace('dollars','')\n",
    "\n",
    "#convert price column to numeric\n",
    "prices[\"price\"] = pd.to_numeric(prices[\"price\"])\n"
   ]
  },
  {
   "cell_type": "code",
   "execution_count": 10,
   "id": "932c1a0b",
   "metadata": {},
   "outputs": [
    {
     "data": {
      "text/html": [
       "<div>\n",
       "<style scoped>\n",
       "    .dataframe tbody tr th:only-of-type {\n",
       "        vertical-align: middle;\n",
       "    }\n",
       "\n",
       "    .dataframe tbody tr th {\n",
       "        vertical-align: top;\n",
       "    }\n",
       "\n",
       "    .dataframe thead th {\n",
       "        text-align: right;\n",
       "    }\n",
       "</style>\n",
       "<table border=\"1\" class=\"dataframe\">\n",
       "  <thead>\n",
       "    <tr style=\"text-align: right;\">\n",
       "      <th></th>\n",
       "      <th>price</th>\n",
       "      <th>nbhood_full</th>\n",
       "    </tr>\n",
       "    <tr>\n",
       "      <th>listing_id</th>\n",
       "      <th></th>\n",
       "      <th></th>\n",
       "    </tr>\n",
       "  </thead>\n",
       "  <tbody>\n",
       "    <tr>\n",
       "      <th>2595</th>\n",
       "      <td>225</td>\n",
       "      <td>Manhattan, Midtown</td>\n",
       "    </tr>\n",
       "  </tbody>\n",
       "</table>\n",
       "</div>"
      ],
      "text/plain": [
       "            price         nbhood_full\n",
       "listing_id                           \n",
       "2595          225  Manhattan, Midtown"
      ]
     },
     "execution_count": 10,
     "metadata": {},
     "output_type": "execute_result"
    }
   ],
   "source": [
    "prices.head(1)"
   ]
  },
  {
   "cell_type": "code",
   "execution_count": 11,
   "id": "44f449e6",
   "metadata": {},
   "outputs": [],
   "source": [
    "#price is 0\n",
    "zero_cost_listings = prices[prices['price'] == 0]"
   ]
  },
  {
   "cell_type": "code",
   "execution_count": 12,
   "id": "45f8d2ae",
   "metadata": {},
   "outputs": [],
   "source": [
    "#filter for price=0\n",
    "prices = prices[prices['price'] != 0]"
   ]
  },
  {
   "cell_type": "code",
   "execution_count": 13,
   "id": "032303c1",
   "metadata": {},
   "outputs": [],
   "source": [
    "# calculate average price\n",
    "average_price = round(prices['price'].mean(), 2)"
   ]
  },
  {
   "cell_type": "code",
   "execution_count": 14,
   "id": "a7772d8c",
   "metadata": {},
   "outputs": [
    {
     "data": {
      "text/plain": [
       "141.82"
      ]
     },
     "execution_count": 14,
     "metadata": {},
     "output_type": "execute_result"
    }
   ],
   "source": [
    "average_price"
   ]
  },
  {
   "cell_type": "code",
   "execution_count": 15,
   "id": "54789cb7",
   "metadata": {},
   "outputs": [],
   "source": [
    "# comparing costs to the private rental market\n",
    "#Create a new column price_per_month\n",
    "prices['price_per_month']=prices['price']*365/12\n"
   ]
  },
  {
   "cell_type": "code",
   "execution_count": 16,
   "id": "da83e784",
   "metadata": {},
   "outputs": [],
   "source": [
    "#Calculate average_price_per_month\n",
    "average_price_per_month=round(prices['price_per_month'].mean(),2)"
   ]
  },
  {
   "cell_type": "code",
   "execution_count": 17,
   "id": "60906054",
   "metadata": {},
   "outputs": [
    {
     "data": {
      "text/plain": [
       "4313.61"
      ]
     },
     "execution_count": 17,
     "metadata": {},
     "output_type": "execute_result"
    }
   ],
   "source": [
    "average_price_per_month"
   ]
  },
  {
   "cell_type": "code",
   "execution_count": 18,
   "id": "b145cbb0",
   "metadata": {},
   "outputs": [],
   "source": [
    "#Difference in rental; private rental market=3100/month\n",
    "Difference=round((average_price_per_month-3100),2)"
   ]
  },
  {
   "cell_type": "code",
   "execution_count": 19,
   "id": "7f5cc726",
   "metadata": {},
   "outputs": [
    {
     "data": {
      "text/plain": [
       "1213.61"
      ]
     },
     "execution_count": 19,
     "metadata": {},
     "output_type": "execute_result"
    }
   ],
   "source": [
    "Difference"
   ]
  },
  {
   "cell_type": "code",
   "execution_count": 20,
   "id": "983a91bd",
   "metadata": {},
   "outputs": [],
   "source": [
    "#step 5:cleaning room_type column\n",
    "room_types['room_type']=room_types['room_type'].str.lower()\n",
    "\n",
    "# Update the room_type column to category data type\n",
    "room_types['room_type']=room_types['room_type'].astype('category')"
   ]
  },
  {
   "cell_type": "code",
   "execution_count": 21,
   "id": "fd01b388",
   "metadata": {},
   "outputs": [],
   "source": [
    "# Create the variable room_frequencies\n",
    "room_frequencies = room_types[\"room_type\"].value_counts()"
   ]
  },
  {
   "cell_type": "code",
   "execution_count": 22,
   "id": "10065da9",
   "metadata": {},
   "outputs": [
    {
     "data": {
      "text/plain": [
       "entire home/apt    13266\n",
       "private room       11356\n",
       "shared room          587\n",
       "Name: room_type, dtype: int64"
      ]
     },
     "execution_count": 22,
     "metadata": {},
     "output_type": "execute_result"
    }
   ],
   "source": [
    "room_frequencies"
   ]
  },
  {
   "cell_type": "code",
   "execution_count": 23,
   "id": "885d97ea",
   "metadata": {},
   "outputs": [],
   "source": [
    "# Change the data type of the last_review column to datetime\n",
    "reviews[\"last_review\"] = pd.to_datetime(reviews[\"last_review\"])"
   ]
  },
  {
   "cell_type": "code",
   "execution_count": 24,
   "id": "2ae36e12",
   "metadata": {},
   "outputs": [
    {
     "data": {
      "text/html": [
       "<div>\n",
       "<style scoped>\n",
       "    .dataframe tbody tr th:only-of-type {\n",
       "        vertical-align: middle;\n",
       "    }\n",
       "\n",
       "    .dataframe tbody tr th {\n",
       "        vertical-align: top;\n",
       "    }\n",
       "\n",
       "    .dataframe thead th {\n",
       "        text-align: right;\n",
       "    }\n",
       "</style>\n",
       "<table border=\"1\" class=\"dataframe\">\n",
       "  <thead>\n",
       "    <tr style=\"text-align: right;\">\n",
       "      <th></th>\n",
       "      <th>host_name</th>\n",
       "      <th>last_review</th>\n",
       "    </tr>\n",
       "    <tr>\n",
       "      <th>listing_id</th>\n",
       "      <th></th>\n",
       "      <th></th>\n",
       "    </tr>\n",
       "  </thead>\n",
       "  <tbody>\n",
       "    <tr>\n",
       "      <th>2595</th>\n",
       "      <td>Jennifer</td>\n",
       "      <td>2019-05-21</td>\n",
       "    </tr>\n",
       "    <tr>\n",
       "      <th>3831</th>\n",
       "      <td>LisaRoxanne</td>\n",
       "      <td>2019-07-05</td>\n",
       "    </tr>\n",
       "  </tbody>\n",
       "</table>\n",
       "</div>"
      ],
      "text/plain": [
       "              host_name last_review\n",
       "listing_id                         \n",
       "2595           Jennifer  2019-05-21\n",
       "3831        LisaRoxanne  2019-07-05"
      ]
     },
     "execution_count": 24,
     "metadata": {},
     "output_type": "execute_result"
    }
   ],
   "source": [
    "reviews.head(2)"
   ]
  },
  {
   "cell_type": "code",
   "execution_count": 25,
   "id": "a6d22384",
   "metadata": {},
   "outputs": [],
   "source": [
    "# Create first_reviewed, the earliest review date\n",
    "first_reviewed = reviews[\"last_review\"].dt.date.min()\n",
    "\n",
    "# Create last_reviewed, the most recent review date\n",
    "last_reviewed = reviews[\"last_review\"].dt.date.max()"
   ]
  },
  {
   "cell_type": "code",
   "execution_count": 26,
   "id": "576d4dd6",
   "metadata": {},
   "outputs": [
    {
     "data": {
      "text/plain": [
       "datetime.date(2019, 1, 1)"
      ]
     },
     "execution_count": 26,
     "metadata": {},
     "output_type": "execute_result"
    }
   ],
   "source": [
    "first_reviewed"
   ]
  },
  {
   "cell_type": "code",
   "execution_count": 27,
   "id": "21bf28c6",
   "metadata": {},
   "outputs": [
    {
     "data": {
      "text/plain": [
       "datetime.date(2019, 7, 9)"
      ]
     },
     "execution_count": 27,
     "metadata": {},
     "output_type": "execute_result"
    }
   ],
   "source": [
    "last_reviewed"
   ]
  },
  {
   "cell_type": "code",
   "execution_count": 28,
   "id": "8314e6de",
   "metadata": {},
   "outputs": [],
   "source": [
    " #Step 7. Joining the DataFrames\n",
    "\n",
    "# Merge prices and room_types to create rooms_and_prices\n",
    "rooms_and_prices = prices.merge(room_types, how=\"outer\", on=\"listing_id\")\n",
    "\n",
    "# Merge rooms_and_prices with the reviews DataFrame to create airbnb_merged\n",
    "airbnb_merged = rooms_and_prices.merge(reviews, how=\"outer\", on=\"listing_id\")\n"
   ]
  },
  {
   "cell_type": "code",
   "execution_count": 29,
   "id": "b3da2adc",
   "metadata": {},
   "outputs": [
    {
     "data": {
      "text/html": [
       "<div>\n",
       "<style scoped>\n",
       "    .dataframe tbody tr th:only-of-type {\n",
       "        vertical-align: middle;\n",
       "    }\n",
       "\n",
       "    .dataframe tbody tr th {\n",
       "        vertical-align: top;\n",
       "    }\n",
       "\n",
       "    .dataframe thead th {\n",
       "        text-align: right;\n",
       "    }\n",
       "</style>\n",
       "<table border=\"1\" class=\"dataframe\">\n",
       "  <thead>\n",
       "    <tr style=\"text-align: right;\">\n",
       "      <th></th>\n",
       "      <th>price</th>\n",
       "      <th>nbhood_full</th>\n",
       "      <th>price_per_month</th>\n",
       "      <th>description</th>\n",
       "      <th>room_type</th>\n",
       "    </tr>\n",
       "    <tr>\n",
       "      <th>listing_id</th>\n",
       "      <th></th>\n",
       "      <th></th>\n",
       "      <th></th>\n",
       "      <th></th>\n",
       "      <th></th>\n",
       "    </tr>\n",
       "  </thead>\n",
       "  <tbody>\n",
       "    <tr>\n",
       "      <th>2595</th>\n",
       "      <td>225.0</td>\n",
       "      <td>Manhattan, Midtown</td>\n",
       "      <td>6843.750000</td>\n",
       "      <td>Skylit Midtown Castle</td>\n",
       "      <td>entire home/apt</td>\n",
       "    </tr>\n",
       "    <tr>\n",
       "      <th>3831</th>\n",
       "      <td>89.0</td>\n",
       "      <td>Brooklyn, Clinton Hill</td>\n",
       "      <td>2707.083333</td>\n",
       "      <td>Cozy Entire Floor of Brownstone</td>\n",
       "      <td>entire home/apt</td>\n",
       "    </tr>\n",
       "  </tbody>\n",
       "</table>\n",
       "</div>"
      ],
      "text/plain": [
       "            price             nbhood_full  price_per_month  \\\n",
       "listing_id                                                   \n",
       "2595        225.0      Manhattan, Midtown      6843.750000   \n",
       "3831         89.0  Brooklyn, Clinton Hill      2707.083333   \n",
       "\n",
       "                                description        room_type  \n",
       "listing_id                                                    \n",
       "2595                  Skylit Midtown Castle  entire home/apt  \n",
       "3831        Cozy Entire Floor of Brownstone  entire home/apt  "
      ]
     },
     "execution_count": 29,
     "metadata": {},
     "output_type": "execute_result"
    }
   ],
   "source": [
    "rooms_and_prices.head(2)"
   ]
  },
  {
   "cell_type": "code",
   "execution_count": 30,
   "id": "3cecba23",
   "metadata": {},
   "outputs": [
    {
     "data": {
      "text/html": [
       "<div>\n",
       "<style scoped>\n",
       "    .dataframe tbody tr th:only-of-type {\n",
       "        vertical-align: middle;\n",
       "    }\n",
       "\n",
       "    .dataframe tbody tr th {\n",
       "        vertical-align: top;\n",
       "    }\n",
       "\n",
       "    .dataframe thead th {\n",
       "        text-align: right;\n",
       "    }\n",
       "</style>\n",
       "<table border=\"1\" class=\"dataframe\">\n",
       "  <thead>\n",
       "    <tr style=\"text-align: right;\">\n",
       "      <th></th>\n",
       "      <th>price</th>\n",
       "      <th>nbhood_full</th>\n",
       "      <th>price_per_month</th>\n",
       "      <th>description</th>\n",
       "      <th>room_type</th>\n",
       "      <th>host_name</th>\n",
       "      <th>last_review</th>\n",
       "    </tr>\n",
       "    <tr>\n",
       "      <th>listing_id</th>\n",
       "      <th></th>\n",
       "      <th></th>\n",
       "      <th></th>\n",
       "      <th></th>\n",
       "      <th></th>\n",
       "      <th></th>\n",
       "      <th></th>\n",
       "    </tr>\n",
       "  </thead>\n",
       "  <tbody>\n",
       "    <tr>\n",
       "      <th>2595</th>\n",
       "      <td>225.0</td>\n",
       "      <td>Manhattan, Midtown</td>\n",
       "      <td>6843.750000</td>\n",
       "      <td>Skylit Midtown Castle</td>\n",
       "      <td>entire home/apt</td>\n",
       "      <td>Jennifer</td>\n",
       "      <td>2019-05-21</td>\n",
       "    </tr>\n",
       "    <tr>\n",
       "      <th>3831</th>\n",
       "      <td>89.0</td>\n",
       "      <td>Brooklyn, Clinton Hill</td>\n",
       "      <td>2707.083333</td>\n",
       "      <td>Cozy Entire Floor of Brownstone</td>\n",
       "      <td>entire home/apt</td>\n",
       "      <td>LisaRoxanne</td>\n",
       "      <td>2019-07-05</td>\n",
       "    </tr>\n",
       "    <tr>\n",
       "      <th>5099</th>\n",
       "      <td>200.0</td>\n",
       "      <td>Manhattan, Murray Hill</td>\n",
       "      <td>6083.333333</td>\n",
       "      <td>Large Cozy 1 BR Apartment In Midtown East</td>\n",
       "      <td>entire home/apt</td>\n",
       "      <td>Chris</td>\n",
       "      <td>2019-06-22</td>\n",
       "    </tr>\n",
       "    <tr>\n",
       "      <th>5178</th>\n",
       "      <td>79.0</td>\n",
       "      <td>Manhattan, Hell's Kitchen</td>\n",
       "      <td>2402.916667</td>\n",
       "      <td>Large Furnished Room Near B'way</td>\n",
       "      <td>private room</td>\n",
       "      <td>Shunichi</td>\n",
       "      <td>2019-06-24</td>\n",
       "    </tr>\n",
       "    <tr>\n",
       "      <th>5238</th>\n",
       "      <td>150.0</td>\n",
       "      <td>Manhattan, Chinatown</td>\n",
       "      <td>4562.500000</td>\n",
       "      <td>Cute &amp; Cozy Lower East Side 1 bdrm</td>\n",
       "      <td>entire home/apt</td>\n",
       "      <td>Ben</td>\n",
       "      <td>2019-06-09</td>\n",
       "    </tr>\n",
       "  </tbody>\n",
       "</table>\n",
       "</div>"
      ],
      "text/plain": [
       "            price                nbhood_full  price_per_month  \\\n",
       "listing_id                                                      \n",
       "2595        225.0         Manhattan, Midtown      6843.750000   \n",
       "3831         89.0     Brooklyn, Clinton Hill      2707.083333   \n",
       "5099        200.0     Manhattan, Murray Hill      6083.333333   \n",
       "5178         79.0  Manhattan, Hell's Kitchen      2402.916667   \n",
       "5238        150.0       Manhattan, Chinatown      4562.500000   \n",
       "\n",
       "                                          description        room_type  \\\n",
       "listing_id                                                               \n",
       "2595                            Skylit Midtown Castle  entire home/apt   \n",
       "3831                  Cozy Entire Floor of Brownstone  entire home/apt   \n",
       "5099        Large Cozy 1 BR Apartment In Midtown East  entire home/apt   \n",
       "5178                  Large Furnished Room Near B'way     private room   \n",
       "5238               Cute & Cozy Lower East Side 1 bdrm  entire home/apt   \n",
       "\n",
       "              host_name last_review  \n",
       "listing_id                           \n",
       "2595           Jennifer  2019-05-21  \n",
       "3831        LisaRoxanne  2019-07-05  \n",
       "5099              Chris  2019-06-22  \n",
       "5178           Shunichi  2019-06-24  \n",
       "5238                Ben  2019-06-09  "
      ]
     },
     "execution_count": 30,
     "metadata": {},
     "output_type": "execute_result"
    }
   ],
   "source": [
    "airbnb_merged.head()"
   ]
  },
  {
   "cell_type": "code",
   "execution_count": 31,
   "id": "41b87005",
   "metadata": {},
   "outputs": [],
   "source": [
    "# Drop missing values from airbnb_merged\n",
    "airbnb_merged.dropna(inplace=True)"
   ]
  },
  {
   "cell_type": "code",
   "execution_count": 32,
   "id": "db0a666e",
   "metadata": {},
   "outputs": [],
   "source": [
    "#calculate duplicates\n",
    "duplicate_rows = airbnb_merged[airbnb_merged.duplicated()]"
   ]
  },
  {
   "cell_type": "code",
   "execution_count": 33,
   "id": "79785730",
   "metadata": {},
   "outputs": [
    {
     "data": {
      "text/html": [
       "<div>\n",
       "<style scoped>\n",
       "    .dataframe tbody tr th:only-of-type {\n",
       "        vertical-align: middle;\n",
       "    }\n",
       "\n",
       "    .dataframe tbody tr th {\n",
       "        vertical-align: top;\n",
       "    }\n",
       "\n",
       "    .dataframe thead th {\n",
       "        text-align: right;\n",
       "    }\n",
       "</style>\n",
       "<table border=\"1\" class=\"dataframe\">\n",
       "  <thead>\n",
       "    <tr style=\"text-align: right;\">\n",
       "      <th></th>\n",
       "      <th>price</th>\n",
       "      <th>nbhood_full</th>\n",
       "      <th>price_per_month</th>\n",
       "      <th>description</th>\n",
       "      <th>room_type</th>\n",
       "      <th>host_name</th>\n",
       "      <th>last_review</th>\n",
       "    </tr>\n",
       "    <tr>\n",
       "      <th>listing_id</th>\n",
       "      <th></th>\n",
       "      <th></th>\n",
       "      <th></th>\n",
       "      <th></th>\n",
       "      <th></th>\n",
       "      <th></th>\n",
       "      <th></th>\n",
       "    </tr>\n",
       "  </thead>\n",
       "  <tbody>\n",
       "    <tr>\n",
       "      <th>253475</th>\n",
       "      <td>199.0</td>\n",
       "      <td>Brooklyn, Greenpoint</td>\n",
       "      <td>6052.916667</td>\n",
       "      <td>Loft Suite @ The Box House Hotel</td>\n",
       "      <td>entire home/apt</td>\n",
       "      <td>The Box House Hotel</td>\n",
       "      <td>2019-06-24</td>\n",
       "    </tr>\n",
       "    <tr>\n",
       "      <th>294227</th>\n",
       "      <td>199.0</td>\n",
       "      <td>Brooklyn, Greenpoint</td>\n",
       "      <td>6052.916667</td>\n",
       "      <td>Loft Suite @ The Box House Hotel</td>\n",
       "      <td>entire home/apt</td>\n",
       "      <td>The Box House Hotel</td>\n",
       "      <td>2019-06-22</td>\n",
       "    </tr>\n",
       "    <tr>\n",
       "      <th>34341449</th>\n",
       "      <td>50.0</td>\n",
       "      <td>Queens, Hollis</td>\n",
       "      <td>1520.833333</td>\n",
       "      <td>SINGLE ROOM AVAILABLE IN JAMAICA NEAR JFK &amp; LGA</td>\n",
       "      <td>private room</td>\n",
       "      <td>Moolchand</td>\n",
       "      <td>2019-06-30</td>\n",
       "    </tr>\n",
       "  </tbody>\n",
       "</table>\n",
       "</div>"
      ],
      "text/plain": [
       "            price           nbhood_full  price_per_month  \\\n",
       "listing_id                                                 \n",
       "253475      199.0  Brooklyn, Greenpoint      6052.916667   \n",
       "294227      199.0  Brooklyn, Greenpoint      6052.916667   \n",
       "34341449     50.0        Queens, Hollis      1520.833333   \n",
       "\n",
       "                                                description        room_type  \\\n",
       "listing_id                                                                     \n",
       "253475                     Loft Suite @ The Box House Hotel  entire home/apt   \n",
       "294227                     Loft Suite @ The Box House Hotel  entire home/apt   \n",
       "34341449    SINGLE ROOM AVAILABLE IN JAMAICA NEAR JFK & LGA     private room   \n",
       "\n",
       "                      host_name last_review  \n",
       "listing_id                                   \n",
       "253475      The Box House Hotel  2019-06-24  \n",
       "294227      The Box House Hotel  2019-06-22  \n",
       "34341449              Moolchand  2019-06-30  "
      ]
     },
     "execution_count": 33,
     "metadata": {},
     "output_type": "execute_result"
    }
   ],
   "source": [
    "duplicate_rows"
   ]
  },
  {
   "cell_type": "code",
   "execution_count": 34,
   "id": "6b4af78b",
   "metadata": {},
   "outputs": [],
   "source": [
    "num_duplicates=airbnb_merged.duplicated().sum()"
   ]
  },
  {
   "cell_type": "code",
   "execution_count": 35,
   "id": "75ee5955",
   "metadata": {},
   "outputs": [
    {
     "data": {
      "text/plain": [
       "3"
      ]
     },
     "execution_count": 35,
     "metadata": {},
     "output_type": "execute_result"
    }
   ],
   "source": [
    "num_duplicates"
   ]
  },
  {
   "cell_type": "code",
   "execution_count": 36,
   "id": "f68b3102",
   "metadata": {},
   "outputs": [],
   "source": [
    "# Step 8. Analyzing listing prices by NYC borough\n",
    "\n",
    "# Extract information from the nbhood_full column and store as a new column, borough\n",
    "airbnb_merged[\"borough\"] = airbnb_merged[\"nbhood_full\"].str.partition(\",\")[0]\n"
   ]
  },
  {
   "cell_type": "code",
   "execution_count": 37,
   "id": "b5499971",
   "metadata": {},
   "outputs": [
    {
     "data": {
      "text/plain": [
       "listing_id\n",
       "2595    Manhattan\n",
       "3831     Brooklyn\n",
       "5099    Manhattan\n",
       "Name: borough, dtype: object"
      ]
     },
     "execution_count": 37,
     "metadata": {},
     "output_type": "execute_result"
    }
   ],
   "source": [
    "#Checking column borough\n",
    "(airbnb_merged['borough']).head(3)"
   ]
  },
  {
   "cell_type": "code",
   "execution_count": 38,
   "id": "6655255b",
   "metadata": {},
   "outputs": [],
   "source": [
    "# Group by borough and calculate summary statistics\n",
    "boroughs = airbnb_merged.groupby(\"borough\")[\"price\"].agg([\"sum\", \"mean\", \"median\", \"count\"])"
   ]
  },
  {
   "cell_type": "code",
   "execution_count": 39,
   "id": "7e464340",
   "metadata": {},
   "outputs": [
    {
     "data": {
      "text/html": [
       "<div>\n",
       "<style scoped>\n",
       "    .dataframe tbody tr th:only-of-type {\n",
       "        vertical-align: middle;\n",
       "    }\n",
       "\n",
       "    .dataframe tbody tr th {\n",
       "        vertical-align: top;\n",
       "    }\n",
       "\n",
       "    .dataframe thead th {\n",
       "        text-align: right;\n",
       "    }\n",
       "</style>\n",
       "<table border=\"1\" class=\"dataframe\">\n",
       "  <thead>\n",
       "    <tr style=\"text-align: right;\">\n",
       "      <th></th>\n",
       "      <th>sum</th>\n",
       "      <th>mean</th>\n",
       "      <th>median</th>\n",
       "      <th>count</th>\n",
       "    </tr>\n",
       "    <tr>\n",
       "      <th>borough</th>\n",
       "      <th></th>\n",
       "      <th></th>\n",
       "      <th></th>\n",
       "      <th></th>\n",
       "    </tr>\n",
       "  </thead>\n",
       "  <tbody>\n",
       "    <tr>\n",
       "      <th>Bronx</th>\n",
       "      <td>55156.0</td>\n",
       "      <td>79.247126</td>\n",
       "      <td>65.0</td>\n",
       "      <td>696</td>\n",
       "    </tr>\n",
       "    <tr>\n",
       "      <th>Brooklyn</th>\n",
       "      <td>1275250.0</td>\n",
       "      <td>122.021816</td>\n",
       "      <td>95.0</td>\n",
       "      <td>10451</td>\n",
       "    </tr>\n",
       "    <tr>\n",
       "      <th>Manhattan</th>\n",
       "      <td>1898417.0</td>\n",
       "      <td>184.044304</td>\n",
       "      <td>149.0</td>\n",
       "      <td>10315</td>\n",
       "    </tr>\n",
       "    <tr>\n",
       "      <th>Queens</th>\n",
       "      <td>320715.0</td>\n",
       "      <td>92.826339</td>\n",
       "      <td>70.0</td>\n",
       "      <td>3455</td>\n",
       "    </tr>\n",
       "    <tr>\n",
       "      <th>Staten Island</th>\n",
       "      <td>22974.0</td>\n",
       "      <td>86.044944</td>\n",
       "      <td>71.0</td>\n",
       "      <td>267</td>\n",
       "    </tr>\n",
       "  </tbody>\n",
       "</table>\n",
       "</div>"
      ],
      "text/plain": [
       "                     sum        mean  median  count\n",
       "borough                                            \n",
       "Bronx            55156.0   79.247126    65.0    696\n",
       "Brooklyn       1275250.0  122.021816    95.0  10451\n",
       "Manhattan      1898417.0  184.044304   149.0  10315\n",
       "Queens          320715.0   92.826339    70.0   3455\n",
       "Staten Island    22974.0   86.044944    71.0    267"
      ]
     },
     "execution_count": 39,
     "metadata": {},
     "output_type": "execute_result"
    }
   ],
   "source": [
    "boroughs"
   ]
  },
  {
   "cell_type": "code",
   "execution_count": 40,
   "id": "751140ff",
   "metadata": {},
   "outputs": [],
   "source": [
    "# Round boroughs to 2 decimal places, and sort by mean in descending order\n",
    "boroughs = round(boroughs,2).sort_values(\"mean\", ascending=False)"
   ]
  },
  {
   "cell_type": "code",
   "execution_count": 41,
   "id": "c904185c",
   "metadata": {},
   "outputs": [
    {
     "data": {
      "text/html": [
       "<div>\n",
       "<style scoped>\n",
       "    .dataframe tbody tr th:only-of-type {\n",
       "        vertical-align: middle;\n",
       "    }\n",
       "\n",
       "    .dataframe tbody tr th {\n",
       "        vertical-align: top;\n",
       "    }\n",
       "\n",
       "    .dataframe thead th {\n",
       "        text-align: right;\n",
       "    }\n",
       "</style>\n",
       "<table border=\"1\" class=\"dataframe\">\n",
       "  <thead>\n",
       "    <tr style=\"text-align: right;\">\n",
       "      <th></th>\n",
       "      <th>sum</th>\n",
       "      <th>mean</th>\n",
       "      <th>median</th>\n",
       "      <th>count</th>\n",
       "    </tr>\n",
       "    <tr>\n",
       "      <th>borough</th>\n",
       "      <th></th>\n",
       "      <th></th>\n",
       "      <th></th>\n",
       "      <th></th>\n",
       "    </tr>\n",
       "  </thead>\n",
       "  <tbody>\n",
       "    <tr>\n",
       "      <th>Manhattan</th>\n",
       "      <td>1898417.0</td>\n",
       "      <td>184.04</td>\n",
       "      <td>149.0</td>\n",
       "      <td>10315</td>\n",
       "    </tr>\n",
       "    <tr>\n",
       "      <th>Brooklyn</th>\n",
       "      <td>1275250.0</td>\n",
       "      <td>122.02</td>\n",
       "      <td>95.0</td>\n",
       "      <td>10451</td>\n",
       "    </tr>\n",
       "    <tr>\n",
       "      <th>Queens</th>\n",
       "      <td>320715.0</td>\n",
       "      <td>92.83</td>\n",
       "      <td>70.0</td>\n",
       "      <td>3455</td>\n",
       "    </tr>\n",
       "    <tr>\n",
       "      <th>Staten Island</th>\n",
       "      <td>22974.0</td>\n",
       "      <td>86.04</td>\n",
       "      <td>71.0</td>\n",
       "      <td>267</td>\n",
       "    </tr>\n",
       "    <tr>\n",
       "      <th>Bronx</th>\n",
       "      <td>55156.0</td>\n",
       "      <td>79.25</td>\n",
       "      <td>65.0</td>\n",
       "      <td>696</td>\n",
       "    </tr>\n",
       "  </tbody>\n",
       "</table>\n",
       "</div>"
      ],
      "text/plain": [
       "                     sum    mean  median  count\n",
       "borough                                        \n",
       "Manhattan      1898417.0  184.04   149.0  10315\n",
       "Brooklyn       1275250.0  122.02    95.0  10451\n",
       "Queens          320715.0   92.83    70.0   3455\n",
       "Staten Island    22974.0   86.04    71.0    267\n",
       "Bronx            55156.0   79.25    65.0    696"
      ]
     },
     "execution_count": 41,
     "metadata": {},
     "output_type": "execute_result"
    }
   ],
   "source": [
    "boroughs"
   ]
  },
  {
   "cell_type": "code",
   "execution_count": 42,
   "id": "97c262e6",
   "metadata": {},
   "outputs": [],
   "source": [
    "# Step 9. Price range by borough\n",
    "\n",
    "# Create labels for the price range, label_names\n",
    "label_names = [\"Budget\", \"Average\", \"Expensive\", \"Extravagant\"]\n",
    "\n",
    "# Create the label ranges, ranges\n",
    "ranges = [0, 69, 175, 350, np.inf]\n"
   ]
  },
  {
   "cell_type": "code",
   "execution_count": 43,
   "id": "9938b10c",
   "metadata": {},
   "outputs": [],
   "source": [
    "# Insert new column, price_range, into DataFrame\n",
    "airbnb_merged[\"price_range\"] = pd.cut(airbnb_merged[\"price\"], bins=ranges, labels=label_names)"
   ]
  },
  {
   "cell_type": "code",
   "execution_count": 44,
   "id": "90d739fd",
   "metadata": {},
   "outputs": [
    {
     "data": {
      "text/plain": [
       "listing_id\n",
       "2595    Expensive\n",
       "3831      Average\n",
       "Name: price_range, dtype: category\n",
       "Categories (4, object): ['Budget' < 'Average' < 'Expensive' < 'Extravagant']"
      ]
     },
     "execution_count": 44,
     "metadata": {},
     "output_type": "execute_result"
    }
   ],
   "source": [
    "airbnb_merged[\"price_range\"].head(2)"
   ]
  },
  {
   "cell_type": "code",
   "execution_count": 45,
   "id": "5575a201",
   "metadata": {},
   "outputs": [],
   "source": [
    "# Calculate occurence frequencies for each label, prices_by_borough\n",
    "prices_by_borough = airbnb_merged.groupby([\"borough\", \"price_range\"])[\"price_range\"].count()"
   ]
  },
  {
   "cell_type": "code",
   "execution_count": 46,
   "id": "a19178e6",
   "metadata": {},
   "outputs": [
    {
     "data": {
      "text/plain": [
       "borough        price_range\n",
       "Bronx          Budget          381\n",
       "               Average         285\n",
       "               Expensive        25\n",
       "               Extravagant       5\n",
       "Brooklyn       Budget         3194\n",
       "               Average        5532\n",
       "               Expensive      1466\n",
       "               Extravagant     259\n",
       "Manhattan      Budget         1148\n",
       "               Average        5285\n",
       "               Expensive      3072\n",
       "               Extravagant     810\n",
       "Queens         Budget         1631\n",
       "               Average        1505\n",
       "               Expensive       291\n",
       "               Extravagant      28\n",
       "Staten Island  Budget          124\n",
       "               Average         123\n",
       "               Expensive        20\n",
       "               Extravagant       0\n",
       "Name: price_range, dtype: int64"
      ]
     },
     "execution_count": 46,
     "metadata": {},
     "output_type": "execute_result"
    }
   ],
   "source": [
    "prices_by_borough"
   ]
  },
  {
   "cell_type": "code",
   "execution_count": 47,
   "id": "5dd074f1",
   "metadata": {},
   "outputs": [],
   "source": [
    "# Step 10. Storing the final result\n",
    "\n",
    "airbnb_analysis = {'avg_price':average_price,\n",
    "            'average_price_per_month': average_price_per_month,  \n",
    "            'difference':Difference,          \n",
    "            'room_frequencies':room_frequencies, \n",
    "            'first_reviewed': first_reviewed,\n",
    "            'last_reviewed': last_reviewed,\n",
    "            'prices_by_borough':prices_by_borough}"
   ]
  },
  {
   "cell_type": "code",
   "execution_count": 48,
   "id": "7ac856b2",
   "metadata": {},
   "outputs": [
    {
     "data": {
      "text/plain": [
       "{'avg_price': 141.82,\n",
       " 'average_price_per_month': 4313.61,\n",
       " 'difference': 1213.61,\n",
       " 'room_frequencies': entire home/apt    13266\n",
       " private room       11356\n",
       " shared room          587\n",
       " Name: room_type, dtype: int64,\n",
       " 'first_reviewed': datetime.date(2019, 1, 1),\n",
       " 'last_reviewed': datetime.date(2019, 7, 9),\n",
       " 'prices_by_borough': borough        price_range\n",
       " Bronx          Budget          381\n",
       "                Average         285\n",
       "                Expensive        25\n",
       "                Extravagant       5\n",
       " Brooklyn       Budget         3194\n",
       "                Average        5532\n",
       "                Expensive      1466\n",
       "                Extravagant     259\n",
       " Manhattan      Budget         1148\n",
       "                Average        5285\n",
       "                Expensive      3072\n",
       "                Extravagant     810\n",
       " Queens         Budget         1631\n",
       "                Average        1505\n",
       "                Expensive       291\n",
       "                Extravagant      28\n",
       " Staten Island  Budget          124\n",
       "                Average         123\n",
       "                Expensive        20\n",
       "                Extravagant       0\n",
       " Name: price_range, dtype: int64}"
      ]
     },
     "execution_count": 48,
     "metadata": {},
     "output_type": "execute_result"
    }
   ],
   "source": [
    "airbnb_analysis"
   ]
  },
  {
   "cell_type": "code",
   "execution_count": 49,
   "id": "d9c48403",
   "metadata": {},
   "outputs": [],
   "source": [
    "airbnb_merged.to_csv('airbnb_merged.csv')"
   ]
  },
  {
   "cell_type": "code",
   "execution_count": null,
   "id": "1457e722",
   "metadata": {},
   "outputs": [],
   "source": []
  },
  {
   "cell_type": "code",
   "execution_count": null,
   "id": "d6eae10e",
   "metadata": {},
   "outputs": [],
   "source": []
  }
 ],
 "metadata": {
  "kernelspec": {
   "display_name": "Python 3 (ipykernel)",
   "language": "python",
   "name": "python3"
  },
  "language_info": {
   "codemirror_mode": {
    "name": "ipython",
    "version": 3
   },
   "file_extension": ".py",
   "mimetype": "text/x-python",
   "name": "python",
   "nbconvert_exporter": "python",
   "pygments_lexer": "ipython3",
   "version": "3.10.9"
  }
 },
 "nbformat": 4,
 "nbformat_minor": 5
}
